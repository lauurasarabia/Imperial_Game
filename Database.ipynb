{
 "cells": [
  {
   "cell_type": "markdown",
   "id": "daa25588",
   "metadata": {},
   "source": [
    "# Companies💸"
   ]
  },
  {
   "cell_type": "markdown",
   "id": "5885db33",
   "metadata": {},
   "source": [
    "* Libraries:"
   ]
  },
  {
   "cell_type": "code",
   "execution_count": 4,
   "id": "dd345c5f",
   "metadata": {},
   "outputs": [],
   "source": [
    "from pymongo import MongoClient\n",
    "import pandas as pd\n",
    "import time\n",
    "import requests\n",
    "import numpy as np\n",
    "from bs4 import BeautifulSoup \n",
    "import re\n",
    "from wordcloud import WordCloud\n",
    "import matplotlib.pyplot as plt\n",
    "import squarify"
   ]
  },
  {
   "cell_type": "markdown",
   "id": "620f559d",
   "metadata": {},
   "source": [
    "## Connecting with Mongo"
   ]
  },
  {
   "cell_type": "code",
   "execution_count": 5,
   "id": "46236e0e",
   "metadata": {},
   "outputs": [],
   "source": [
    "def connect_db (database):\n",
    "    client = MongoClient(\"localhost:27017\")\n",
    "    db = client[\"Ironhack\"]\n",
    "    return db.get_collection(f\"{database}\")\n"
   ]
  },
  {
   "cell_type": "code",
   "execution_count": 6,
   "id": "fdb46f40",
   "metadata": {},
   "outputs": [],
   "source": [
    "c = connect_db(\"companies\")"
   ]
  },
  {
   "cell_type": "markdown",
   "id": "ac2287a4",
   "metadata": {},
   "source": [
    "## Filtering"
   ]
  },
  {
   "cell_type": "markdown",
   "id": "99f92d7b",
   "metadata": {},
   "source": [
    "### Select tech categories"
   ]
  },
  {
   "cell_type": "markdown",
   "id": "23973a81",
   "metadata": {},
   "source": [
    "* Print all categories presented in our database:"
   ]
  },
  {
   "cell_type": "code",
   "execution_count": 7,
   "id": "9e0f1c5b",
   "metadata": {},
   "outputs": [],
   "source": [
    "def show_categories (category):\n",
    "    category = c.distinct(f\"{category}\")\n",
    "    print(category)"
   ]
  },
  {
   "cell_type": "code",
   "execution_count": 8,
   "id": "3eec5a1e",
   "metadata": {
    "scrolled": true
   },
   "outputs": [
    {
     "name": "stdout",
     "output_type": "stream",
     "text": [
      "[None, 'advertising', 'analytics', 'automotive', 'biotech', 'cleantech', 'consulting', 'design', 'ecommerce', 'education', 'enterprise', 'fashion', 'finance', 'games_video', 'government', 'hardware', 'health', 'hospitality', 'legal', 'local', 'manufacturing', 'medical', 'messaging', 'mobile', 'music', 'nanotech', 'network_hosting', 'news', 'nonprofit', 'other', 'photo_video', 'public_relations', 'real_estate', 'search', 'security', 'semiconductor', 'social', 'software', 'sports', 'transportation', 'travel', 'web']\n"
     ]
    }
   ],
   "source": [
    "show_categories(\"category_code\")"
   ]
  },
  {
   "cell_type": "markdown",
   "id": "c143c6b6",
   "metadata": {},
   "source": [
    "* Filter companies related to tech:"
   ]
  },
  {
   "cell_type": "code",
   "execution_count": 5,
   "id": "d3d6384d",
   "metadata": {},
   "outputs": [
    {
     "data": {
      "text/plain": [
       "[{'name': 'BetKlub',\n",
       "  'category_code': 'games_video',\n",
       "  'total_money_raised': '€91k',\n",
       "  'offices': [{'city': 'Paris', 'country_code': 'FRA'}]},\n",
       " {'name': 'Karo Internet',\n",
       "  'category_code': 'games_video',\n",
       "  'total_money_raised': '€850k',\n",
       "  'offices': [{'city': 'Cologne', 'country_code': 'DEU'}]},\n",
       " {'name': 'Tupalo',\n",
       "  'category_code': 'web',\n",
       "  'total_money_raised': '€77.1k',\n",
       "  'offices': [{'city': 'Vienna', 'country_code': 'AUT'}]},\n",
       " {'name': 'Dodreams',\n",
       "  'category_code': 'games_video',\n",
       "  'total_money_raised': '€750k',\n",
       "  'offices': [{'city': '', 'country_code': 'FIN'}]},\n",
       " {'name': 'kinkon',\n",
       "  'category_code': 'web',\n",
       "  'total_money_raised': '€750k',\n",
       "  'offices': [{'city': 'Kaiserslautern', 'country_code': 'DEU'}]}]"
      ]
     },
     "execution_count": 5,
     "metadata": {},
     "output_type": "execute_result"
    }
   ],
   "source": [
    "filter_ = {\"category_code\": {\"$regex\": \"games_video|hardware|network_hosting|software|web\"}}\n",
    "projection = {\"name\":1, \"_id\":0, \"category_code\":1, \"total_money_raised\":1, \"offices.city\":1, \"offices.country_code\":1 }\n",
    "tech_companies = list(c.find(filter_, projection).sort(\"total_money_raised\", -1))\n",
    "tech_companies[:5]"
   ]
  },
  {
   "cell_type": "code",
   "execution_count": 6,
   "id": "855164a4",
   "metadata": {
    "scrolled": true
   },
   "outputs": [],
   "source": [
    "#tech_companies[0][\"offices\"][0][\"city\"]"
   ]
  },
  {
   "cell_type": "code",
   "execution_count": 7,
   "id": "055ddffb",
   "metadata": {},
   "outputs": [],
   "source": [
    "cities = [] \n",
    "\n",
    "for i in range(len(tech_companies)):\n",
    "    for j in range(len(tech_companies[i][\"offices\"])):\n",
    "        cities.append(tech_companies[i][\"offices\"][j][\"city\"])"
   ]
  },
  {
   "cell_type": "code",
   "execution_count": 8,
   "id": "80713a0d",
   "metadata": {},
   "outputs": [],
   "source": [
    "countries = []\n",
    "\n",
    "for i in range(len(tech_companies)):\n",
    "    for j in range(len(tech_companies[i][\"offices\"])):\n",
    "        countries.append(tech_companies[i][\"offices\"][j][\"country_code\"])"
   ]
  },
  {
   "cell_type": "code",
   "execution_count": 9,
   "id": "4a522442",
   "metadata": {},
   "outputs": [],
   "source": [
    "tcompanies = {\n",
    "    \"City\": cities,\n",
    "    \"Country\": countries\n",
    "}\n",
    "\n",
    "df = pd.DataFrame(tcompanies)"
   ]
  },
  {
   "cell_type": "code",
   "execution_count": 10,
   "id": "8c4aa733",
   "metadata": {},
   "outputs": [
    {
     "data": {
      "text/html": [
       "<div>\n",
       "<style scoped>\n",
       "    .dataframe tbody tr th:only-of-type {\n",
       "        vertical-align: middle;\n",
       "    }\n",
       "\n",
       "    .dataframe tbody tr th {\n",
       "        vertical-align: top;\n",
       "    }\n",
       "\n",
       "    .dataframe thead th {\n",
       "        text-align: right;\n",
       "    }\n",
       "</style>\n",
       "<table border=\"1\" class=\"dataframe\">\n",
       "  <thead>\n",
       "    <tr style=\"text-align: right;\">\n",
       "      <th></th>\n",
       "      <th></th>\n",
       "      <th>0</th>\n",
       "    </tr>\n",
       "    <tr>\n",
       "      <th>Country</th>\n",
       "      <th>City</th>\n",
       "      <th></th>\n",
       "    </tr>\n",
       "  </thead>\n",
       "  <tbody>\n",
       "    <tr>\n",
       "      <th rowspan=\"3\" valign=\"top\">AFG</th>\n",
       "      <th>Bellevue</th>\n",
       "      <td>1</td>\n",
       "    </tr>\n",
       "    <tr>\n",
       "      <th>Cerritos</th>\n",
       "      <td>1</td>\n",
       "    </tr>\n",
       "    <tr>\n",
       "      <th>Salt Lake City</th>\n",
       "      <td>1</td>\n",
       "    </tr>\n",
       "    <tr>\n",
       "      <th>ALB</th>\n",
       "      <th>Tirana</th>\n",
       "      <td>1</td>\n",
       "    </tr>\n",
       "    <tr>\n",
       "      <th>ANT</th>\n",
       "      <th>Curacao</th>\n",
       "      <td>1</td>\n",
       "    </tr>\n",
       "    <tr>\n",
       "      <th>...</th>\n",
       "      <th>...</th>\n",
       "      <td>...</td>\n",
       "    </tr>\n",
       "    <tr>\n",
       "      <th rowspan=\"5\" valign=\"top\">ZAF</th>\n",
       "      <th>Cape Town,Western Cape</th>\n",
       "      <td>1</td>\n",
       "    </tr>\n",
       "    <tr>\n",
       "      <th>Eldoraign</th>\n",
       "      <td>1</td>\n",
       "    </tr>\n",
       "    <tr>\n",
       "      <th>Fish Hoek</th>\n",
       "      <td>1</td>\n",
       "    </tr>\n",
       "    <tr>\n",
       "      <th>Johannesburg</th>\n",
       "      <td>4</td>\n",
       "    </tr>\n",
       "    <tr>\n",
       "      <th>Pretoria</th>\n",
       "      <td>1</td>\n",
       "    </tr>\n",
       "  </tbody>\n",
       "</table>\n",
       "<p>2068 rows × 1 columns</p>\n",
       "</div>"
      ],
      "text/plain": [
       "                                0\n",
       "Country City                     \n",
       "AFG     Bellevue                1\n",
       "        Cerritos                1\n",
       "        Salt Lake City          1\n",
       "ALB     Tirana                  1\n",
       "ANT     Curacao                 1\n",
       "...                            ..\n",
       "ZAF     Cape Town,Western Cape  1\n",
       "        Eldoraign               1\n",
       "        Fish Hoek               1\n",
       "        Johannesburg            4\n",
       "        Pretoria                1\n",
       "\n",
       "[2068 rows x 1 columns]"
      ]
     },
     "execution_count": 10,
     "metadata": {},
     "output_type": "execute_result"
    }
   ],
   "source": [
    "df = df.groupby([\"Country\", \"City\"]).size()\n",
    "df = pd.DataFrame(df)"
   ]
  },
  {
   "cell_type": "code",
   "execution_count": 12,
   "id": "8f079ae1",
   "metadata": {},
   "outputs": [],
   "source": [
    "df = df.sort_values(by=0, ascending=False)\n",
    "df"
   ]
  },
  {
   "cell_type": "code",
   "execution_count": 17,
   "id": "c095597b",
   "metadata": {},
   "outputs": [
    {
     "data": {
      "image/png": "[encoded data removed]",
      "text/plain": [
       "<Figure size 432x288 with 1 Axes>"
      ]
     },
     "metadata": {
      "needs_background": "light"
     },
     "output_type": "display_data"
    }
   ],
   "source": [
    "df = df.rename(columns={0: \"Offices\"})\n",
    "df.head(3).plot(kind=\"bar\", color=[\"#BA3C2D\"], title=\"Offices per city\");"
   ]
  },
  {
   "cell_type": "markdown",
   "id": "be00a5c1",
   "metadata": {},
   "source": [
    "### Scrape for deciding which is the best option for our new company"
   ]
  },
  {
   "cell_type": "code",
   "execution_count": 27,
   "id": "d260cac1",
   "metadata": {},
   "outputs": [],
   "source": [
    "url = \"https://moscone.com/events/game-developers-conference-2023\""
   ]
  },
  {
   "cell_type": "code",
   "execution_count": 28,
   "id": "187194bf",
   "metadata": {},
   "outputs": [
    {
     "data": {
      "text/plain": [
       "<Response [200]>"
      ]
     },
     "execution_count": 28,
     "metadata": {},
     "output_type": "execute_result"
    }
   ],
   "source": [
    "html = requests.get(url)\n",
    "html"
   ]
  },
  {
   "cell_type": "code",
   "execution_count": 29,
   "id": "f1d97956",
   "metadata": {},
   "outputs": [],
   "source": [
    "soup = BeautifulSoup(html.content, \"html.parser\")"
   ]
  },
  {
   "cell_type": "code",
   "execution_count": 30,
   "id": "f17eb87f",
   "metadata": {},
   "outputs": [
    {
     "data": {
      "text/plain": [
       "<div class=\"field-rich-text\"><p><strong><a href=\"https://gdconf.com/\">IN-PERSON</a> </strong>| March 20 - 24<strong> |</strong> Moscone Center | San Francisco, CA USA</p>\n",
       "<p>GDC is the game industry's premier professional event, championing game developers and the advancement of their craft.</p>\n",
       "<p>The Game Developers Conference (GDC) brings the game development community together to exchange ideas, solve problems, and shape the future of the industry across five days of education, inspiration, and networking. Attendees inlude programmers, artists, producers, game designers, audio professionals, and business leaders.</p></div>"
      ]
     },
     "execution_count": 30,
     "metadata": {},
     "output_type": "execute_result"
    }
   ],
   "source": [
    "tags = soup.find_all(\"div\", attrs = {\"class\":\"field-rich-text\"})\n",
    "tags[0]"
   ]
  },
  {
   "cell_type": "code",
   "execution_count": 32,
   "id": "5440a441",
   "metadata": {},
   "outputs": [
    {
     "name": "stdout",
     "output_type": "stream",
     "text": [
      "IN-PERSON | March 20 - 24 | Moscone Center | San Francisco, CA USA\n",
      "GDC is the game industry's premier professional event, championing game developers and the advancement of their craft.\n",
      "The Game Developers Conference (GDC) brings the game development community together to exchange ideas, solve problems, and shape the future of the industry across five days of education, inspiration, and networking. Attendees inlude programmers, artists, producers, game designers, audio professionals, and business leaders.\n"
     ]
    }
   ],
   "source": [
    "text_description = tags[0].getText()\n",
    "print(text_description)"
   ]
  },
  {
   "cell_type": "code",
   "execution_count": null,
   "id": "86b082c8",
   "metadata": {},
   "outputs": [],
   "source": []
  }
 ],
 "metadata": {
  "kernelspec": {
   "display_name": "ironhack",
   "language": "python",
   "name": "ironhack"
  },
  "language_info": {
   "codemirror_mode": {
    "name": "ipython",
    "version": 3
   },
   "file_extension": ".py",
   "mimetype": "text/x-python",
   "name": "python",
   "nbconvert_exporter": "python",
   "pygments_lexer": "ipython3",
   "version": "3.9.12"
  },
  "toc": {
   "base_numbering": 1,
   "nav_menu": {},
   "number_sections": true,
   "sideBar": true,
   "skip_h1_title": false,
   "title_cell": "Table of Contents",
   "title_sidebar": "Contents",
   "toc_cell": false,
   "toc_position": {},
   "toc_section_display": true,
   "toc_window_display": false
  }
 },
 "nbformat": 4,
 "nbformat_minor": 5
}
